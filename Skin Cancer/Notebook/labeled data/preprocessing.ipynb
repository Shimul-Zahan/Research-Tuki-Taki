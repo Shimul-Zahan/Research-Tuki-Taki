{
 "cells": [
  {
   "cell_type": "code",
   "execution_count": 2,
   "metadata": {},
   "outputs": [],
   "source": [
    "import numpy as np\n",
    "import pandas as pd\n",
    "import matplotlib.pyplot as plt"
   ]
  },
  {
   "cell_type": "code",
   "execution_count": 6,
   "metadata": {},
   "outputs": [
    {
     "data": {
      "text/plain": [
       "\" \\n    here's all the files\\n    ['train_images',\\n    'train_labels',\\n    'val_images',\\n    'val_labels',\\n    'test_images',\\n    'test_labels']\\n\""
      ]
     },
     "execution_count": 6,
     "metadata": {},
     "output_type": "execute_result"
    }
   ],
   "source": [
    "# Load the dataset\n",
    "data = np.load('../Data/dermamnist_224.npz')\n",
    "\n",
    "# data.files\n",
    "\n",
    "''' \n",
    "    here's all the files\n",
    "    ['train_images',\n",
    "    'train_labels',\n",
    "    'val_images',\n",
    "    'val_labels',\n",
    "    'test_images',\n",
    "    'test_labels']\n",
    "'''"
   ]
  },
  {
   "cell_type": "code",
   "execution_count": null,
   "metadata": {},
   "outputs": [],
   "source": [
    "# Here intial/separates the images and labels\n",
    "\n",
    "train_images = data['train_images']\n",
    "train_labels = data['train_labels']\n",
    "val_images = data['val_images']\n",
    "val_labels = data['val_labels']\n",
    "test_images = data['test_images']\n",
    "test_labels = data['test_labels']\n",
    "\n",
    "# train_data = list(zip(train_images, train_labels))"
   ]
  },
  {
   "cell_type": "code",
   "execution_count": 28,
   "metadata": {},
   "outputs": [
    {
     "name": "stdout",
     "output_type": "stream",
     "text": [
      "Image index: 0\n",
      "Label: [0]\n",
      "Image index: 1\n",
      "Label: [5]\n",
      "Image index: 2\n",
      "Label: [5]\n",
      "Image index: 3\n",
      "Label: [5]\n",
      "Image index: 4\n",
      "Label: [4]\n",
      "Image index: 5\n",
      "Label: [5]\n",
      "Image index: 6\n",
      "Label: [4]\n",
      "Image index: 7\n",
      "Label: [5]\n",
      "Image index: 8\n",
      "Label: [5]\n",
      "Image index: 9\n",
      "Label: [5]\n",
      "Image index: 10\n",
      "Label: [2]\n",
      "Image index: 11\n",
      "Label: [5]\n",
      "Image index: 12\n",
      "Label: [1]\n",
      "Image index: 13\n",
      "Label: [5]\n",
      "Image index: 14\n",
      "Label: [4]\n",
      "Image index: 15\n",
      "Label: [5]\n",
      "Image index: 16\n",
      "Label: [2]\n",
      "Image index: 17\n",
      "Label: [5]\n",
      "Image index: 18\n",
      "Label: [5]\n",
      "Image index: 19\n",
      "Label: [5]\n"
     ]
    }
   ],
   "source": [
    "for i in range(20):\n",
    "    print(f\"Image index: {i}\")\n",
    "    print(f\"Label: {train_labels[i]}\")\n",
    "    # print(f\"Image shape: {train_images[i].shape}\")"
   ]
  },
  {
   "cell_type": "code",
   "execution_count": null,
   "metadata": {},
   "outputs": [],
   "source": []
  },
  {
   "cell_type": "code",
   "execution_count": null,
   "metadata": {},
   "outputs": [],
   "source": []
  },
  {
   "cell_type": "code",
   "execution_count": null,
   "metadata": {},
   "outputs": [],
   "source": []
  }
 ],
 "metadata": {
  "kernelspec": {
   "display_name": "Python 3",
   "language": "python",
   "name": "python3"
  },
  "language_info": {
   "codemirror_mode": {
    "name": "ipython",
    "version": 3
   },
   "file_extension": ".py",
   "mimetype": "text/x-python",
   "name": "python",
   "nbconvert_exporter": "python",
   "pygments_lexer": "ipython3",
   "version": "3.13.2"
  }
 },
 "nbformat": 4,
 "nbformat_minor": 2
}
