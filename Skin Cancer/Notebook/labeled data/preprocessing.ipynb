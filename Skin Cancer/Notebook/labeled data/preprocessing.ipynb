{
 "cells": [
  {
   "cell_type": "code",
   "execution_count": 2,
   "metadata": {},
   "outputs": [],
   "source": [
    "import numpy as np\n",
    "import pandas as pd\n",
    "import matplotlib.pyplot as plt"
   ]
  },
  {
   "cell_type": "code",
   "execution_count": 6,
   "metadata": {},
   "outputs": [
    {
     "data": {
      "text/plain": [
       "\" \\n    here's all the files\\n    ['train_images',\\n    'train_labels',\\n    'val_images',\\n    'val_labels',\\n    'test_images',\\n    'test_labels']\\n\""
      ]
     },
     "execution_count": 6,
     "metadata": {},
     "output_type": "execute_result"
    }
   ],
   "source": [
    "# Load the dataset\n",
    "data = np.load('../Data/dermamnist_224.npz')\n",
    "\n",
    "# data.files\n",
    "\n",
    "''' \n",
    "    here's all the files\n",
    "    ['train_images',\n",
    "    'train_labels',\n",
    "    'val_images',\n",
    "    'val_labels',\n",
    "    'test_images',\n",
    "    'test_labels']\n",
    "'''"
   ]
  },
  {
   "cell_type": "code",
   "execution_count": null,
   "metadata": {},
   "outputs": [],
   "source": [
    "# Here intial/separates the images and labels\n",
    "\n",
    "train_images = data['train_images']\n",
    "train_labels = data['train_labels']\n",
    "val_images = data['val_images']\n",
    "val_labels = data['val_labels']\n",
    "test_images = data['test_images']\n",
    "test_labels = data['test_labels']\n",
    "\n"
   ]
  },
  {
   "cell_type": "code",
   "execution_count": 30,
   "metadata": {},
   "outputs": [],
   "source": [
    "for i in range(20):\n",
    "    # print(f\"Image index: {i}\")\n",
    "    # print(f\"Label: {train_labels[i]}\")\n",
    "    # print(f\"Image shape: {train_images[i].shape}\")\n",
    "    pass"
   ]
  },
  {
   "cell_type": "code",
   "execution_count": 55,
   "metadata": {},
   "outputs": [],
   "source": [
    "# Zipping all the images based on labels\n",
    "# train_data = list(zip(train_images, train_labels))\n",
    "\n",
    "# all_labels = np.unique(train_labels)\n",
    "# all_labels\n",
    "\n",
    "# all_labels = np.unique(val_labels)\n",
    "# all_labels\n",
    "\n",
    "# all_labels = np.unique(val_labels)\n",
    "# all_labels"
   ]
  },
  {
   "cell_type": "code",
   "execution_count": 51,
   "metadata": {},
   "outputs": [],
   "source": [
    "# separate images based on labels\n",
    "import os\n",
    "\n",
    "def create_separate_folder(labels, path):\n",
    "    for label_id, label_name in labels.items():\n",
    "        print(f\"{label_id}: {label_name}\")\n",
    "        label_folder = os.path.join(path, label_name)\n",
    "        os.makedirs(label_folder, exist_ok=True)"
   ]
  },
  {
   "cell_type": "code",
   "execution_count": 52,
   "metadata": {},
   "outputs": [
    {
     "name": "stdout",
     "output_type": "stream",
     "text": [
      "0: akiec\n",
      "1: bcc\n",
      "2: bkl\n",
      "3: df\n",
      "4: nv\n",
      "5: vasc\n",
      "6: mel\n",
      "0: akiec\n",
      "1: bcc\n",
      "2: bkl\n",
      "3: df\n",
      "4: nv\n",
      "5: vasc\n",
      "6: mel\n",
      "0: akiec\n",
      "1: bcc\n",
      "2: bkl\n",
      "3: df\n",
      "4: nv\n",
      "5: vasc\n",
      "6: mel\n"
     ]
    }
   ],
   "source": [
    "labels = {\n",
    "    0: 'akiec',\n",
    "    1: 'bcc',\n",
    "    2: 'bkl',\n",
    "    3: 'df',\n",
    "    4: 'nv',\n",
    "    5: 'vasc',\n",
    "    6: 'mel'\n",
    "}\n",
    "\n",
    "\n",
    "folder = {\n",
    "    \"train_data_folder\": '../Data/Train Data',\n",
    "    \"test_data_folder\": '../Data/Test Data',\n",
    "    \"validation_data_folder\": '../Data/Validation Data',\n",
    "}\n",
    "for index, path_name in folder.items():\n",
    "    create_separate_folder(labels=labels, path=path_name)"
   ]
  }
 ],
 "metadata": {
  "kernelspec": {
   "display_name": "Python 3",
   "language": "python",
   "name": "python3"
  },
  "language_info": {
   "codemirror_mode": {
    "name": "ipython",
    "version": 3
   },
   "file_extension": ".py",
   "mimetype": "text/x-python",
   "name": "python",
   "nbconvert_exporter": "python",
   "pygments_lexer": "ipython3",
   "version": "3.13.2"
  }
 },
 "nbformat": 4,
 "nbformat_minor": 2
}
